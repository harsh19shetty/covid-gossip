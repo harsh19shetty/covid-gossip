{
 "cells": [
  {
   "cell_type": "code",
   "execution_count": 267,
   "metadata": {},
   "outputs": [],
   "source": [
    "api_key = '*********************************' # insert API key generated from the twitter scrapers\n",
    "api_secret = '******************************************' # the 4 keys which have been replaced by '*' will. be generated for youi\n",
    "access_token = '***************************************' # just replace them with your credentials and the remaining code will run\n",
    "access_secret = '*************************************'\n",
    "\n",
    "from tweepy import OAuthHandler\n",
    "from tweepy.streaming import StreamListener\n",
    "import tweepy\n",
    "import json\n",
    "import pandas as pd\n",
    "import csv\n",
    "import re\n",
    "from textblob import TextBlob\n",
    "import string\n",
    "import preprocessor as p\n",
    "import os\n",
    "import time\n"
   ]
  },
  {
   "cell_type": "code",
   "execution_count": 2,
   "metadata": {},
   "outputs": [],
   "source": [
    "def authenticator(api_key,api_secret,access_token, access_secret):\n",
    "    auth = OAuthHandler(api_key, api_secret)\n",
    "    auth.set_access_token(access_token, access_secret)\n",
    "    api = tweepy.API(auth)\n",
    "    return api"
   ]
  },
  {
   "cell_type": "code",
   "execution_count": 3,
   "metadata": {},
   "outputs": [],
   "source": [
    "api = authenticator(api_key,api_secret,access_token, access_secret)"
   ]
  },
  {
   "cell_type": "code",
   "execution_count": 13,
   "metadata": {},
   "outputs": [],
   "source": [
    "def scraptweets(search_words, date_since, numTweets, numRuns):\n",
    "    db_tweets = pd.DataFrame(columns = ['username', 'acctdesc', 'location', 'following','followers', 'totaltweets', 'usercreatedts', 'tweetcreatedts','retweetcount', 'text', 'hashtags'])\n",
    "    program_start = time.time()\n",
    "    for i in range(0, numRuns):\n",
    "        start_run = time.time()\n",
    "        tweets = tweepy.Cursor(api.search, q=search_words, lang=\"en\", since=date_since, tweet_mode='extended').items(numTweets)\n",
    "        tweet_list = [tweet for tweet in tweets]\n",
    "        noTweets = 0\n",
    "        for tweet in tweet_list:\n",
    "            username = tweet.user.screen_name\n",
    "            acctdesc = tweet.user.description\n",
    "            location = tweet.user.location\n",
    "            following = tweet.user.friends_count\n",
    "            followers = tweet.user.followers_count\n",
    "            totaltweets = tweet.user.statuses_count\n",
    "            usercreatedts = tweet.user.created_at\n",
    "            tweetcreatedts = tweet.created_at\n",
    "            retweetcount = tweet.retweet_count\n",
    "            hashtags = tweet.entities['hashtags']\n",
    "            try:\n",
    "                text = tweet.retweeted_status.full_text\n",
    "            except AttributeError: \n",
    "                text = tweet.full_text\n",
    "            ith_tweet = [username, acctdesc, location, following, followers, totaltweets,\n",
    "                         usercreatedts, tweetcreatedts, retweetcount, text, hashtags]\n",
    "            db_tweets.loc[len(db_tweets)] = ith_tweet\n",
    "            noTweets += 1\n",
    "        \n",
    "        end_run = time.time()\n",
    "        duration_run = round((end_run-start_run)/60, 2)\n",
    "        \n",
    "        print('no. of tweets scraped for run {} is {}'.format(i + 1, noTweets))\n",
    "        print('time take for {} run to complete is {} mins'.format(i+1, duration_run))\n",
    "        \n",
    "        time.sleep(920) \n",
    "    from datetime import datetime\n",
    "    to_csv_timestamp = datetime.today().strftime('%Y%m%d_%H%M%S')\n",
    "    path = '/Users/sahajshukla/Desktop'\n",
    "    filename = path + 'covid19_tweets.csv'\n",
    "    db_tweets.to_csv(filename, index = False)\n",
    "    \n",
    "    program_end = time.time()\n",
    "    print('Scraping has completed!')\n",
    "    print('Total time taken to scrap is {} minutes.'.format(round(program_end - program_start)/60, 2))"
   ]
  },
  {
   "cell_type": "code",
   "execution_count": 14,
   "metadata": {},
   "outputs": [],
   "source": [
    "#var = scraptweets('covid-19', '1212021', 20, 1)"
   ]
  },
  {
   "cell_type": "code",
   "execution_count": 15,
   "metadata": {},
   "outputs": [
    {
     "name": "stdout",
     "output_type": "stream",
     "text": [
      "no. of tweets scraped for run 1 is 2500\n",
      "time take for 1 run to complete is 1.36 mins\n",
      "no. of tweets scraped for run 2 is 2500\n",
      "time take for 2 run to complete is 1.45 mins\n",
      "no. of tweets scraped for run 3 is 2500\n",
      "time take for 3 run to complete is 1.51 mins\n",
      "no. of tweets scraped for run 4 is 2500\n",
      "time take for 4 run to complete is 1.63 mins\n",
      "no. of tweets scraped for run 5 is 2500\n",
      "time take for 5 run to complete is 1.64 mins\n",
      "no. of tweets scraped for run 6 is 2500\n",
      "time take for 6 run to complete is 1.69 mins\n",
      "Scraping has completed!\n",
      "Total time taken to scrap is 149.8 minutes.\n"
     ]
    }
   ],
   "source": [
    "# Initialise these variables:\n",
    "search_words = \"#covid OR #covid19 OR #coronavirus OR #corona OR #pandemic OR #flattenthecurve\"\n",
    "date_since = \"2021-1-12\"\n",
    "numTweets = 2500\n",
    "numRuns = 6\n",
    "# Call the function scraptweets\n",
    "var1= scraptweets(search_words, date_since, numTweets, numRuns)"
   ]
  },
  {
   "cell_type": "code",
   "execution_count": 19,
   "metadata": {},
   "outputs": [],
   "source": [
    "import numpy as np\n",
    "import pandas as pd"
   ]
  },
  {
   "cell_type": "code",
   "execution_count": 20,
   "metadata": {},
   "outputs": [],
   "source": [
    "df = pd.read_csv('Desktop/covid19_tweets.csv')"
   ]
  },
  {
   "cell_type": "code",
   "execution_count": 22,
   "metadata": {},
   "outputs": [],
   "source": [
    "df = df['text']"
   ]
  },
  {
   "cell_type": "code",
   "execution_count": 23,
   "metadata": {},
   "outputs": [
    {
     "data": {
      "text/plain": [
       "0        @TheBelieverJC Amen\\n\\n#Akhirzaman\\n#Endtimes\\...\n",
       "1        Our new vaccine provider tool shows locations ...\n",
       "2        Amen\\n\\n#Akhirzaman\\n#Endtimes\\n#BibleProphecy...\n",
       "3         2020 shouldn't be include to our age\\n\\n#COVID19\n",
       "4        My friend's dad recently tested positive. Inte...\n",
       "                               ...                        \n",
       "14995    Joe Biden's immediate #coronavirus priorities ...\n",
       "14996    Happy New week from YamBarn... \\n#MondayMotiva...\n",
       "14997    Happy New week from YamBarn... \\n#MondayMotiva...\n",
       "14998    New Brunswick struggles to contain latest surg...\n",
       "14999    Happy New week from YamBarn... \\n#MondayMotiva...\n",
       "Name: text, Length: 15000, dtype: object"
      ]
     },
     "execution_count": 23,
     "metadata": {},
     "output_type": "execute_result"
    }
   ],
   "source": [
    "df"
   ]
  },
  {
   "cell_type": "code",
   "execution_count": 132,
   "metadata": {},
   "outputs": [],
   "source": [
    "from nltk.tokenize import word_tokenize\n",
    "from nltk.tokenize import sent_tokenize \n",
    "import re\n",
    "from nltk.corpus import stopwords"
   ]
  },
  {
   "cell_type": "code",
   "execution_count": 133,
   "metadata": {},
   "outputs": [],
   "source": [
    "def clean_tweet(this):\n",
    "    return ' '.join(re.sub(\"(@[A-Za-z0-9]+)|([^0-9A-Za-z \\t])|(\\w+:\\/\\/\\S+)\",\" \", this).split())"
   ]
  },
  {
   "cell_type": "code",
   "execution_count": 134,
   "metadata": {},
   "outputs": [],
   "source": [
    "array1 = []\n",
    "for i in df:\n",
    "    array1.append(clean_tweet(i))"
   ]
  },
  {
   "cell_type": "code",
   "execution_count": 266,
   "metadata": {},
   "outputs": [
    {
     "data": {
      "text/plain": [
       "tweets    [new, vaccine, provider, tool, shows, location...\n",
       "Name: 1, dtype: object"
      ]
     },
     "execution_count": 266,
     "metadata": {},
     "output_type": "execute_result"
    }
   ],
   "source": [
    "#pd.options.display.max_columns\n",
    "array1.iloc[1,:]"
   ]
  },
  {
   "cell_type": "code",
   "execution_count": 136,
   "metadata": {},
   "outputs": [],
   "source": [
    "array1 = pd.DataFrame(array1)"
   ]
  },
  {
   "cell_type": "code",
   "execution_count": 137,
   "metadata": {},
   "outputs": [
    {
     "data": {
      "text/html": [
       "<div>\n",
       "<style scoped>\n",
       "    .dataframe tbody tr th:only-of-type {\n",
       "        vertical-align: middle;\n",
       "    }\n",
       "\n",
       "    .dataframe tbody tr th {\n",
       "        vertical-align: top;\n",
       "    }\n",
       "\n",
       "    .dataframe thead th {\n",
       "        text-align: right;\n",
       "    }\n",
       "</style>\n",
       "<table border=\"1\" class=\"dataframe\">\n",
       "  <thead>\n",
       "    <tr style=\"text-align: right;\">\n",
       "      <th></th>\n",
       "      <th>0</th>\n",
       "    </tr>\n",
       "  </thead>\n",
       "  <tbody>\n",
       "    <tr>\n",
       "      <th>0</th>\n",
       "      <td>Amen Akhirzaman Endtimes BibleProphecy Gereja ...</td>\n",
       "    </tr>\n",
       "    <tr>\n",
       "      <th>1</th>\n",
       "      <td>Our new vaccine provider tool shows locations ...</td>\n",
       "    </tr>\n",
       "    <tr>\n",
       "      <th>2</th>\n",
       "      <td>Amen Akhirzaman Endtimes BibleProphecy Gereja ...</td>\n",
       "    </tr>\n",
       "    <tr>\n",
       "      <th>3</th>\n",
       "      <td>2020 shouldn t be include to our age COVID19</td>\n",
       "    </tr>\n",
       "    <tr>\n",
       "      <th>4</th>\n",
       "      <td>My friend s dad recently tested positive Inter...</td>\n",
       "    </tr>\n",
       "    <tr>\n",
       "      <th>...</th>\n",
       "      <td>...</td>\n",
       "    </tr>\n",
       "    <tr>\n",
       "      <th>14995</th>\n",
       "      <td>Joe Biden s immediate coronavirus priorities a...</td>\n",
       "    </tr>\n",
       "    <tr>\n",
       "      <th>14996</th>\n",
       "      <td>Happy New week from YamBarn MondayMotivation m...</td>\n",
       "    </tr>\n",
       "    <tr>\n",
       "      <th>14997</th>\n",
       "      <td>Happy New week from YamBarn MondayMotivation m...</td>\n",
       "    </tr>\n",
       "    <tr>\n",
       "      <th>14998</th>\n",
       "      <td>New Brunswick struggles to contain latest surg...</td>\n",
       "    </tr>\n",
       "    <tr>\n",
       "      <th>14999</th>\n",
       "      <td>Happy New week from YamBarn MondayMotivation m...</td>\n",
       "    </tr>\n",
       "  </tbody>\n",
       "</table>\n",
       "<p>15000 rows × 1 columns</p>\n",
       "</div>"
      ],
      "text/plain": [
       "                                                       0\n",
       "0      Amen Akhirzaman Endtimes BibleProphecy Gereja ...\n",
       "1      Our new vaccine provider tool shows locations ...\n",
       "2      Amen Akhirzaman Endtimes BibleProphecy Gereja ...\n",
       "3           2020 shouldn t be include to our age COVID19\n",
       "4      My friend s dad recently tested positive Inter...\n",
       "...                                                  ...\n",
       "14995  Joe Biden s immediate coronavirus priorities a...\n",
       "14996  Happy New week from YamBarn MondayMotivation m...\n",
       "14997  Happy New week from YamBarn MondayMotivation m...\n",
       "14998  New Brunswick struggles to contain latest surg...\n",
       "14999  Happy New week from YamBarn MondayMotivation m...\n",
       "\n",
       "[15000 rows x 1 columns]"
      ]
     },
     "execution_count": 137,
     "metadata": {},
     "output_type": "execute_result"
    }
   ],
   "source": [
    "array1"
   ]
  },
  {
   "cell_type": "code",
   "execution_count": 138,
   "metadata": {},
   "outputs": [],
   "source": [
    "stop = stopwords.words('english')"
   ]
  },
  {
   "cell_type": "code",
   "execution_count": 139,
   "metadata": {},
   "outputs": [
    {
     "data": {
      "text/plain": [
       "(15000, 1)"
      ]
     },
     "execution_count": 139,
     "metadata": {},
     "output_type": "execute_result"
    }
   ],
   "source": [
    "array1.shape"
   ]
  },
  {
   "cell_type": "code",
   "execution_count": 140,
   "metadata": {},
   "outputs": [
    {
     "data": {
      "text/plain": [
       "0    this\n",
       "dtype: object"
      ]
     },
     "execution_count": 140,
     "metadata": {},
     "output_type": "execute_result"
    }
   ],
   "source": [
    "array1.apply(lambda x: 'this')"
   ]
  },
  {
   "cell_type": "code",
   "execution_count": 141,
   "metadata": {},
   "outputs": [
    {
     "data": {
      "text/html": [
       "<div>\n",
       "<style scoped>\n",
       "    .dataframe tbody tr th:only-of-type {\n",
       "        vertical-align: middle;\n",
       "    }\n",
       "\n",
       "    .dataframe tbody tr th {\n",
       "        vertical-align: top;\n",
       "    }\n",
       "\n",
       "    .dataframe thead th {\n",
       "        text-align: right;\n",
       "    }\n",
       "</style>\n",
       "<table border=\"1\" class=\"dataframe\">\n",
       "  <thead>\n",
       "    <tr style=\"text-align: right;\">\n",
       "      <th></th>\n",
       "      <th>0</th>\n",
       "    </tr>\n",
       "  </thead>\n",
       "  <tbody>\n",
       "    <tr>\n",
       "      <th>0</th>\n",
       "      <td>Amen Akhirzaman Endtimes BibleProphecy Gereja ...</td>\n",
       "    </tr>\n",
       "    <tr>\n",
       "      <th>1</th>\n",
       "      <td>Our new vaccine provider tool shows locations ...</td>\n",
       "    </tr>\n",
       "    <tr>\n",
       "      <th>2</th>\n",
       "      <td>Amen Akhirzaman Endtimes BibleProphecy Gereja ...</td>\n",
       "    </tr>\n",
       "    <tr>\n",
       "      <th>3</th>\n",
       "      <td>2020 shouldn t be include to our age COVID19</td>\n",
       "    </tr>\n",
       "    <tr>\n",
       "      <th>4</th>\n",
       "      <td>My friend s dad recently tested positive Inter...</td>\n",
       "    </tr>\n",
       "    <tr>\n",
       "      <th>...</th>\n",
       "      <td>...</td>\n",
       "    </tr>\n",
       "    <tr>\n",
       "      <th>14995</th>\n",
       "      <td>Joe Biden s immediate coronavirus priorities a...</td>\n",
       "    </tr>\n",
       "    <tr>\n",
       "      <th>14996</th>\n",
       "      <td>Happy New week from YamBarn MondayMotivation m...</td>\n",
       "    </tr>\n",
       "    <tr>\n",
       "      <th>14997</th>\n",
       "      <td>Happy New week from YamBarn MondayMotivation m...</td>\n",
       "    </tr>\n",
       "    <tr>\n",
       "      <th>14998</th>\n",
       "      <td>New Brunswick struggles to contain latest surg...</td>\n",
       "    </tr>\n",
       "    <tr>\n",
       "      <th>14999</th>\n",
       "      <td>Happy New week from YamBarn MondayMotivation m...</td>\n",
       "    </tr>\n",
       "  </tbody>\n",
       "</table>\n",
       "<p>15000 rows × 1 columns</p>\n",
       "</div>"
      ],
      "text/plain": [
       "                                                       0\n",
       "0      Amen Akhirzaman Endtimes BibleProphecy Gereja ...\n",
       "1      Our new vaccine provider tool shows locations ...\n",
       "2      Amen Akhirzaman Endtimes BibleProphecy Gereja ...\n",
       "3           2020 shouldn t be include to our age COVID19\n",
       "4      My friend s dad recently tested positive Inter...\n",
       "...                                                  ...\n",
       "14995  Joe Biden s immediate coronavirus priorities a...\n",
       "14996  Happy New week from YamBarn MondayMotivation m...\n",
       "14997  Happy New week from YamBarn MondayMotivation m...\n",
       "14998  New Brunswick struggles to contain latest surg...\n",
       "14999  Happy New week from YamBarn MondayMotivation m...\n",
       "\n",
       "[15000 rows x 1 columns]"
      ]
     },
     "execution_count": 141,
     "metadata": {},
     "output_type": "execute_result"
    }
   ],
   "source": [
    "array1.apply(lambda x: [item for item in x if item not in stop])"
   ]
  },
  {
   "cell_type": "code",
   "execution_count": 142,
   "metadata": {},
   "outputs": [],
   "source": [
    "array1 = array1.rename(columns={0:'tweets'})"
   ]
  },
  {
   "cell_type": "code",
   "execution_count": 143,
   "metadata": {},
   "outputs": [
    {
     "data": {
      "text/html": [
       "<div>\n",
       "<style scoped>\n",
       "    .dataframe tbody tr th:only-of-type {\n",
       "        vertical-align: middle;\n",
       "    }\n",
       "\n",
       "    .dataframe tbody tr th {\n",
       "        vertical-align: top;\n",
       "    }\n",
       "\n",
       "    .dataframe thead th {\n",
       "        text-align: right;\n",
       "    }\n",
       "</style>\n",
       "<table border=\"1\" class=\"dataframe\">\n",
       "  <thead>\n",
       "    <tr style=\"text-align: right;\">\n",
       "      <th></th>\n",
       "      <th>tweets</th>\n",
       "    </tr>\n",
       "  </thead>\n",
       "  <tbody>\n",
       "    <tr>\n",
       "      <th>0</th>\n",
       "      <td>Amen Akhirzaman Endtimes BibleProphecy Gereja ...</td>\n",
       "    </tr>\n",
       "    <tr>\n",
       "      <th>1</th>\n",
       "      <td>Our new vaccine provider tool shows locations ...</td>\n",
       "    </tr>\n",
       "    <tr>\n",
       "      <th>2</th>\n",
       "      <td>Amen Akhirzaman Endtimes BibleProphecy Gereja ...</td>\n",
       "    </tr>\n",
       "    <tr>\n",
       "      <th>3</th>\n",
       "      <td>2020 shouldn t be include to our age COVID19</td>\n",
       "    </tr>\n",
       "    <tr>\n",
       "      <th>4</th>\n",
       "      <td>My friend s dad recently tested positive Inter...</td>\n",
       "    </tr>\n",
       "    <tr>\n",
       "      <th>...</th>\n",
       "      <td>...</td>\n",
       "    </tr>\n",
       "    <tr>\n",
       "      <th>14995</th>\n",
       "      <td>Joe Biden s immediate coronavirus priorities a...</td>\n",
       "    </tr>\n",
       "    <tr>\n",
       "      <th>14996</th>\n",
       "      <td>Happy New week from YamBarn MondayMotivation m...</td>\n",
       "    </tr>\n",
       "    <tr>\n",
       "      <th>14997</th>\n",
       "      <td>Happy New week from YamBarn MondayMotivation m...</td>\n",
       "    </tr>\n",
       "    <tr>\n",
       "      <th>14998</th>\n",
       "      <td>New Brunswick struggles to contain latest surg...</td>\n",
       "    </tr>\n",
       "    <tr>\n",
       "      <th>14999</th>\n",
       "      <td>Happy New week from YamBarn MondayMotivation m...</td>\n",
       "    </tr>\n",
       "  </tbody>\n",
       "</table>\n",
       "<p>15000 rows × 1 columns</p>\n",
       "</div>"
      ],
      "text/plain": [
       "                                                  tweets\n",
       "0      Amen Akhirzaman Endtimes BibleProphecy Gereja ...\n",
       "1      Our new vaccine provider tool shows locations ...\n",
       "2      Amen Akhirzaman Endtimes BibleProphecy Gereja ...\n",
       "3           2020 shouldn t be include to our age COVID19\n",
       "4      My friend s dad recently tested positive Inter...\n",
       "...                                                  ...\n",
       "14995  Joe Biden s immediate coronavirus priorities a...\n",
       "14996  Happy New week from YamBarn MondayMotivation m...\n",
       "14997  Happy New week from YamBarn MondayMotivation m...\n",
       "14998  New Brunswick struggles to contain latest surg...\n",
       "14999  Happy New week from YamBarn MondayMotivation m...\n",
       "\n",
       "[15000 rows x 1 columns]"
      ]
     },
     "execution_count": 143,
     "metadata": {},
     "output_type": "execute_result"
    }
   ],
   "source": [
    "array1"
   ]
  },
  {
   "cell_type": "code",
   "execution_count": 144,
   "metadata": {},
   "outputs": [],
   "source": [
    "array1[\"tweets\"] = array1[\"tweets\"].str.lower().str.split()\n",
    "array1 = array1['tweets'].apply(lambda x: [item for item in x if item not in stop])"
   ]
  },
  {
   "cell_type": "code",
   "execution_count": 145,
   "metadata": {},
   "outputs": [
    {
     "data": {
      "text/plain": [
       "0        [amen, akhirzaman, endtimes, bibleprophecy, ge...\n",
       "1        [new, vaccine, provider, tool, shows, location...\n",
       "2        [amen, akhirzaman, endtimes, bibleprophecy, ge...\n",
       "3                            [2020, include, age, covid19]\n",
       "4        [friend, dad, recently, tested, positive, inte...\n",
       "                               ...                        \n",
       "14995    [joe, biden, immediate, coronavirus, prioritie...\n",
       "14996    [happy, new, week, yambarn, mondaymotivation, ...\n",
       "14997    [happy, new, week, yambarn, mondaymotivation, ...\n",
       "14998    [new, brunswick, struggles, contain, latest, s...\n",
       "14999    [happy, new, week, yambarn, mondaymotivation, ...\n",
       "Name: tweets, Length: 15000, dtype: object"
      ]
     },
     "execution_count": 145,
     "metadata": {},
     "output_type": "execute_result"
    }
   ],
   "source": [
    "array1"
   ]
  },
  {
   "cell_type": "code",
   "execution_count": 146,
   "metadata": {},
   "outputs": [],
   "source": [
    "from nltk.stem import PorterStemmer\n",
    "stemmer = PorterStemmer()"
   ]
  },
  {
   "cell_type": "code",
   "execution_count": 149,
   "metadata": {},
   "outputs": [],
   "source": [
    "array1 = pd.DataFrame(array1)\n"
   ]
  },
  {
   "cell_type": "code",
   "execution_count": 150,
   "metadata": {},
   "outputs": [
    {
     "data": {
      "text/html": [
       "<div>\n",
       "<style scoped>\n",
       "    .dataframe tbody tr th:only-of-type {\n",
       "        vertical-align: middle;\n",
       "    }\n",
       "\n",
       "    .dataframe tbody tr th {\n",
       "        vertical-align: top;\n",
       "    }\n",
       "\n",
       "    .dataframe thead th {\n",
       "        text-align: right;\n",
       "    }\n",
       "</style>\n",
       "<table border=\"1\" class=\"dataframe\">\n",
       "  <thead>\n",
       "    <tr style=\"text-align: right;\">\n",
       "      <th></th>\n",
       "      <th>tweets</th>\n",
       "    </tr>\n",
       "  </thead>\n",
       "  <tbody>\n",
       "    <tr>\n",
       "      <th>0</th>\n",
       "      <td>[amen, akhirzaman, endtimes, bibleprophecy, ge...</td>\n",
       "    </tr>\n",
       "    <tr>\n",
       "      <th>1</th>\n",
       "      <td>[new, vaccine, provider, tool, shows, location...</td>\n",
       "    </tr>\n",
       "    <tr>\n",
       "      <th>2</th>\n",
       "      <td>[amen, akhirzaman, endtimes, bibleprophecy, ge...</td>\n",
       "    </tr>\n",
       "    <tr>\n",
       "      <th>3</th>\n",
       "      <td>[2020, include, age, covid19]</td>\n",
       "    </tr>\n",
       "    <tr>\n",
       "      <th>4</th>\n",
       "      <td>[friend, dad, recently, tested, positive, inte...</td>\n",
       "    </tr>\n",
       "    <tr>\n",
       "      <th>...</th>\n",
       "      <td>...</td>\n",
       "    </tr>\n",
       "    <tr>\n",
       "      <th>14995</th>\n",
       "      <td>[joe, biden, immediate, coronavirus, prioritie...</td>\n",
       "    </tr>\n",
       "    <tr>\n",
       "      <th>14996</th>\n",
       "      <td>[happy, new, week, yambarn, mondaymotivation, ...</td>\n",
       "    </tr>\n",
       "    <tr>\n",
       "      <th>14997</th>\n",
       "      <td>[happy, new, week, yambarn, mondaymotivation, ...</td>\n",
       "    </tr>\n",
       "    <tr>\n",
       "      <th>14998</th>\n",
       "      <td>[new, brunswick, struggles, contain, latest, s...</td>\n",
       "    </tr>\n",
       "    <tr>\n",
       "      <th>14999</th>\n",
       "      <td>[happy, new, week, yambarn, mondaymotivation, ...</td>\n",
       "    </tr>\n",
       "  </tbody>\n",
       "</table>\n",
       "<p>15000 rows × 1 columns</p>\n",
       "</div>"
      ],
      "text/plain": [
       "                                                  tweets\n",
       "0      [amen, akhirzaman, endtimes, bibleprophecy, ge...\n",
       "1      [new, vaccine, provider, tool, shows, location...\n",
       "2      [amen, akhirzaman, endtimes, bibleprophecy, ge...\n",
       "3                          [2020, include, age, covid19]\n",
       "4      [friend, dad, recently, tested, positive, inte...\n",
       "...                                                  ...\n",
       "14995  [joe, biden, immediate, coronavirus, prioritie...\n",
       "14996  [happy, new, week, yambarn, mondaymotivation, ...\n",
       "14997  [happy, new, week, yambarn, mondaymotivation, ...\n",
       "14998  [new, brunswick, struggles, contain, latest, s...\n",
       "14999  [happy, new, week, yambarn, mondaymotivation, ...\n",
       "\n",
       "[15000 rows x 1 columns]"
      ]
     },
     "execution_count": 150,
     "metadata": {},
     "output_type": "execute_result"
    }
   ],
   "source": [
    "array1"
   ]
  },
  {
   "cell_type": "code",
   "execution_count": 151,
   "metadata": {},
   "outputs": [],
   "source": [
    "arr2 = []\n",
    "for i in array1['tweets']:\n",
    "    arr1 = []\n",
    "    for j in i:\n",
    "        j = stemmer.stem(j)\n",
    "        arr1.append(j)\n",
    "    arr2.append(arr1)"
   ]
  },
  {
   "cell_type": "code",
   "execution_count": 171,
   "metadata": {},
   "outputs": [],
   "source": [
    "from gensim import corpora, models, similarities, downloader\n",
    "import gensim"
   ]
  },
  {
   "cell_type": "code",
   "execution_count": 220,
   "metadata": {},
   "outputs": [],
   "source": [
    " model = gensim.models.Word2Vec(arr2,min_count=1, size = 32)"
   ]
  },
  {
   "cell_type": "code",
   "execution_count": 221,
   "metadata": {},
   "outputs": [
    {
     "name": "stderr",
     "output_type": "stream",
     "text": [
      "/opt/anaconda3/envs/MachineLearning/lib/python3.7/site-packages/ipykernel_launcher.py:1: DeprecationWarning: Call to deprecated `most_similar` (Method will be removed in 4.0.0, use self.wv.most_similar() instead).\n",
      "  \"\"\"Entry point for launching an IPython kernel.\n"
     ]
    },
    {
     "data": {
      "text/plain": [
       "[('soundup', 0.7500971555709839),\n",
       " ('elabor', 0.741153359413147),\n",
       " ('zerocovid', 0.730138897895813),\n",
       " ('anticip', 0.7261486053466797),\n",
       " ('covishield', 0.7243441939353943),\n",
       " ('inocul', 0.723292887210846),\n",
       " ('vaccinationdr', 0.7201719284057617),\n",
       " ('log', 0.7179169654846191),\n",
       " ('powerisyour', 0.7130990028381348),\n",
       " ('unbias', 0.7104071378707886)]"
      ]
     },
     "execution_count": 221,
     "metadata": {},
     "output_type": "execute_result"
    }
   ],
   "source": [
    "model.most_similar('covid19')"
   ]
  },
  {
   "cell_type": "markdown",
   "metadata": {},
   "source": [
    "('newstrainofcoronaviru', 0.7015031576156616) and ('covid19vaccin', 0.6855109333992004) shows that the worls is most concerned about the new strain of covid-19 virus and covid vaccines lately\n"
   ]
  },
  {
   "cell_type": "code",
   "execution_count": 222,
   "metadata": {},
   "outputs": [
    {
     "name": "stderr",
     "output_type": "stream",
     "text": [
      "/opt/anaconda3/envs/MachineLearning/lib/python3.7/site-packages/ipykernel_launcher.py:1: DeprecationWarning: Call to deprecated `most_similar` (Method will be removed in 4.0.0, use self.wv.most_similar() instead).\n",
      "  \"\"\"Entry point for launching an IPython kernel.\n"
     ]
    },
    {
     "data": {
      "text/plain": [
       "[('175', 0.938687801361084),\n",
       " ('heat', 0.9268056750297546),\n",
       " ('surpass', 0.926115095615387),\n",
       " ('041', 0.9208394289016724),\n",
       " ('exce', 0.9202182292938232),\n",
       " ('rate', 0.9147425293922424),\n",
       " ('highest', 0.9109095335006714),\n",
       " ('398', 0.9056347608566284),\n",
       " ('002', 0.9015560746192932),\n",
       " ('202', 0.8991591930389404)]"
      ]
     },
     "execution_count": 222,
     "metadata": {},
     "output_type": "execute_result"
    }
   ],
   "source": [
    "model.most_similar('death')"
   ]
  },
  {
   "cell_type": "markdown",
   "metadata": {},
   "source": [
    "Talking about death, most tweets seem to be facts based. Exceed and surpassed being the only texts often used with death, the others are just numbers"
   ]
  },
  {
   "cell_type": "code",
   "execution_count": 223,
   "metadata": {},
   "outputs": [
    {
     "name": "stderr",
     "output_type": "stream",
     "text": [
      "/opt/anaconda3/envs/MachineLearning/lib/python3.7/site-packages/ipykernel_launcher.py:1: DeprecationWarning: Call to deprecated `most_similar` (Method will be removed in 4.0.0, use self.wv.most_similar() instead).\n",
      "  \"\"\"Entry point for launching an IPython kernel.\n"
     ]
    },
    {
     "data": {
      "text/plain": [
       "[('covid19vaccin', 0.9050557017326355),\n",
       " ('coronaviruspandem', 0.9011415839195251),\n",
       " ('streak', 0.892388641834259),\n",
       " ('glitch', 0.8908182978630066),\n",
       " ('pan', 0.8798413276672363),\n",
       " ('coronasafetytip', 0.8714830279350281),\n",
       " ('largestvaccinationdr', 0.8695726990699768),\n",
       " ('covishield', 0.8621368408203125),\n",
       " ('indiafightscorona', 0.8602380156517029),\n",
       " ('inocul', 0.8582554459571838)]"
      ]
     },
     "execution_count": 223,
     "metadata": {},
     "output_type": "execute_result"
    }
   ],
   "source": [
    "model.most_similar('india')"
   ]
  },
  {
   "cell_type": "code",
   "execution_count": 224,
   "metadata": {},
   "outputs": [
    {
     "name": "stderr",
     "output_type": "stream",
     "text": [
      "/opt/anaconda3/envs/MachineLearning/lib/python3.7/site-packages/ipykernel_launcher.py:1: DeprecationWarning: Call to deprecated `most_similar` (Method will be removed in 4.0.0, use self.wv.most_similar() instead).\n",
      "  \"\"\"Entry point for launching an IPython kernel.\n"
     ]
    },
    {
     "data": {
      "text/plain": [
       "[('healthministri', 0.9304147958755493),\n",
       " ('itali', 0.9198288917541504),\n",
       " ('20k', 0.914466142654419),\n",
       " ('pakistan', 0.9102131724357605),\n",
       " ('dy365', 0.9081410765647888),\n",
       " ('110', 0.9073655009269714),\n",
       " ('franc', 0.9021708965301514),\n",
       " ('194', 0.9007587432861328),\n",
       " ('leap', 0.898230791091919),\n",
       " ('042', 0.8973006010055542)]"
      ]
     },
     "execution_count": 224,
     "metadata": {},
     "output_type": "execute_result"
    }
   ],
   "source": [
    "model.most_similar('usa')"
   ]
  },
  {
   "cell_type": "code",
   "execution_count": 225,
   "metadata": {},
   "outputs": [
    {
     "name": "stderr",
     "output_type": "stream",
     "text": [
      "/opt/anaconda3/envs/MachineLearning/lib/python3.7/site-packages/ipykernel_launcher.py:1: DeprecationWarning: Call to deprecated `most_similar` (Method will be removed in 4.0.0, use self.wv.most_similar() instead).\n",
      "  \"\"\"Entry point for launching an IPython kernel.\n"
     ]
    },
    {
     "data": {
      "text/plain": [
       "[('slow', 0.9057726860046387),\n",
       " ('measur', 0.893132209777832),\n",
       " ('stop', 0.8751460313796997),\n",
       " ('prevent', 0.8667067885398865),\n",
       " ('takerespons', 0.8103840351104736),\n",
       " ('cgtn', 0.8066921234130859),\n",
       " ('vermin', 0.8064451217651367),\n",
       " ('curtail', 0.8043041229248047),\n",
       " ('indoor', 0.8037985563278198),\n",
       " ('precaut', 0.7995473742485046)]"
      ]
     },
     "execution_count": 225,
     "metadata": {},
     "output_type": "execute_result"
    }
   ],
   "source": [
    "model.most_similar('spread')"
   ]
  },
  {
   "cell_type": "code",
   "execution_count": 249,
   "metadata": {},
   "outputs": [
    {
     "name": "stderr",
     "output_type": "stream",
     "text": [
      "/opt/anaconda3/envs/MachineLearning/lib/python3.7/site-packages/ipykernel_launcher.py:1: DeprecationWarning: Call to deprecated `most_similar` (Method will be removed in 4.0.0, use self.wv.most_similar() instead).\n",
      "  \"\"\"Entry point for launching an IPython kernel.\n"
     ]
    },
    {
     "data": {
      "text/plain": [
       "[('moderna', 0.8708730936050415),\n",
       " ('sinovac', 0.864195704460144),\n",
       " ('biontech', 0.8539444208145142),\n",
       " ('sight', 0.8464689254760742),\n",
       " ('receiv', 0.8428606986999512),\n",
       " ('dose', 0.8386792540550232),\n",
       " ('brazilian', 0.8384666442871094),\n",
       " ('jab', 0.8369552493095398),\n",
       " ('sclerosi', 0.8330541253089905),\n",
       " ('aarogyasetu', 0.8276796936988831)]"
      ]
     },
     "execution_count": 249,
     "metadata": {},
     "output_type": "execute_result"
    }
   ],
   "source": [
    "model.most_similar('vaccin')"
   ]
  },
  {
   "cell_type": "code",
   "execution_count": 227,
   "metadata": {},
   "outputs": [],
   "source": [
    "model.save(\"covid19_tweet_model\")"
   ]
  },
  {
   "cell_type": "code",
   "execution_count": 228,
   "metadata": {},
   "outputs": [],
   "source": [
    "from sklearn.manifold import TSNE"
   ]
  },
  {
   "cell_type": "code",
   "execution_count": 235,
   "metadata": {},
   "outputs": [],
   "source": [
    "import matplotlib.pyplot as plt"
   ]
  },
  {
   "cell_type": "code",
   "execution_count": 247,
   "metadata": {},
   "outputs": [],
   "source": [
    "def display_closestwords_tsnescatterplot(model, word):\n",
    "    arr = np.empty((0,32), dtype='f')\n",
    "    word_labels = [word]\n",
    "    close_words = model.similar_by_word(word)\n",
    "    arr = np.append(arr, np.array([model[word]]), axis=0)\n",
    "    for wrd_score in close_words:\n",
    "        wrd_vector = model[wrd_score[0]]\n",
    "        word_labels.append(wrd_score[0])\n",
    "        arr = np.append(arr, np.array([wrd_vector]), axis=0)\n",
    "        tsne = TSNE(n_components=2, random_state=0)\n",
    "    np.set_printoptions(suppress=True)\n",
    "    Y = tsne.fit_transform(arr)\n",
    "\n",
    "    x_coords = Y[:, 0]\n",
    "    y_coords = Y[:, 1]\n",
    "    # display scatter plot\n",
    "    plt.scatter(x_coords, y_coords)\n",
    "\n",
    "    for label, x, y in zip(word_labels, x_coords, y_coords):\n",
    "        plt.annotate(label, xy=(x, y), xytext=(0, 0), textcoords='offset points')\n",
    "    plt.xlim(x_coords.min()+50, x_coords.max()+50)\n",
    "    plt.ylim(y_coords.min()+100, y_coords.max()+100)\n",
    "    plt.show()\n",
    "        "
   ]
  },
  {
   "cell_type": "code",
   "execution_count": 250,
   "metadata": {},
   "outputs": [
    {
     "name": "stderr",
     "output_type": "stream",
     "text": [
      "/opt/anaconda3/envs/MachineLearning/lib/python3.7/site-packages/ipykernel_launcher.py:4: DeprecationWarning: Call to deprecated `similar_by_word` (Method will be removed in 4.0.0, use self.wv.similar_by_word() instead).\n",
      "  after removing the cwd from sys.path.\n",
      "/opt/anaconda3/envs/MachineLearning/lib/python3.7/site-packages/ipykernel_launcher.py:5: DeprecationWarning: Call to deprecated `__getitem__` (Method will be removed in 4.0.0, use self.wv.__getitem__() instead).\n",
      "  \"\"\"\n",
      "/opt/anaconda3/envs/MachineLearning/lib/python3.7/site-packages/ipykernel_launcher.py:7: DeprecationWarning: Call to deprecated `__getitem__` (Method will be removed in 4.0.0, use self.wv.__getitem__() instead).\n",
      "  import sys\n"
     ]
    },
    {
     "data": {
      "image/png": "[encoded data removed]",
      "text/plain": [
       "<Figure size 432x288 with 1 Axes>"
      ]
     },
     "metadata": {
      "needs_background": "light"
     },
     "output_type": "display_data"
    }
   ],
   "source": [
    "display_closestwords_tsnescatterplot(model, 'vaccin')"
   ]
  },
  {
   "cell_type": "code",
   "execution_count": null,
   "metadata": {},
   "outputs": [],
   "source": []
  }
 ],
 "metadata": {
  "kernelspec": {
   "display_name": "Python 3",
   "language": "python",
   "name": "python3"
  },
  "language_info": {
   "codemirror_mode": {
    "name": "ipython",
    "version": 3
   },
   "file_extension": ".py",
   "mimetype": "text/x-python",
   "name": "python",
   "nbconvert_exporter": "python",
   "pygments_lexer": "ipython3",
   "version": "3.7.9"
  }
 },
 "nbformat": 4,
 "nbformat_minor": 4
}
